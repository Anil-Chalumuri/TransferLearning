{
  "nbformat": 4,
  "nbformat_minor": 0,
  "metadata": {
    "kernelspec": {
      "display_name": "Python 3",
      "language": "python",
      "name": "python3"
    },
    "language_info": {
      "codemirror_mode": {
        "name": "ipython",
        "version": 3
      },
      "file_extension": ".py",
      "mimetype": "text/x-python",
      "name": "python",
      "nbconvert_exporter": "python",
      "pygments_lexer": "ipython3",
      "version": "3.7.3"
    },
    "colab": {
      "name": "Transfer Learning VGG16.ipynb",
      "provenance": [],
      "collapsed_sections": [],
      "toc_visible": true,
      "include_colab_link": true
    },
    "accelerator": "GPU"
  },
  "cells": [
    {
      "cell_type": "markdown",
      "metadata": {
        "id": "view-in-github",
        "colab_type": "text"
      },
      "source": [
        "<a href=\"https://colab.research.google.com/github/Anil-Chalumuri/TransferLearning/blob/main/Transfer_Learning_VGG16.ipynb\" target=\"_parent\"><img src=\"https://colab.research.google.com/assets/colab-badge.svg\" alt=\"Open In Colab\"/></a>"
      ]
    },
    {
      "cell_type": "markdown",
      "metadata": {
        "id": "o7rRaoyuiwbP"
      },
      "source": [
        "## Transfer Learning VGG 16 and VGG 19 using Keras"
      ]
    },
    {
      "cell_type": "markdown",
      "metadata": {
        "id": "ROXS4pzdiwbY"
      },
      "source": [
        "Please download the dataset from the below url"
      ]
    },
    {
      "cell_type": "code",
      "metadata": {
        "colab": {
          "base_uri": "https://localhost:8080/"
        },
        "id": "XjV-GPBOiwbZ",
        "outputId": "6df57512-bc62-48db-8f4c-428140c95b2b"
      },
      "source": [
        "import tensorflow as tf \n",
        "\n",
        "if tf.test.gpu_device_name(): \n",
        "    \n",
        "\n",
        "    print('Default GPU Device:{}'.format(tf.test.gpu_device_name()))\n",
        "\n",
        "else:\n",
        "\n",
        "    print(\"Please install GPU version of TF\")"
      ],
      "execution_count": 3,
      "outputs": [
        {
          "output_type": "stream",
          "text": [
            "Default GPU Device:/device:GPU:0\n"
          ],
          "name": "stdout"
        }
      ]
    },
    {
      "cell_type": "code",
      "metadata": {
        "colab": {
          "base_uri": "https://localhost:8080/"
        },
        "id": "s054glZpIgV1",
        "outputId": "dd26f836-ba2a-41d4-c058-ccaa0804f53c"
      },
      "source": [
        "from google.colab import drive\n",
        "drive.mount('/content/drive')"
      ],
      "execution_count": 4,
      "outputs": [
        {
          "output_type": "stream",
          "text": [
            "Mounted at /content/drive\n"
          ],
          "name": "stdout"
        }
      ]
    },
    {
      "cell_type": "code",
      "metadata": {
        "colab": {
          "base_uri": "https://localhost:8080/",
          "height": 35
        },
        "id": "KCnHZ4cwiwbb",
        "outputId": "04bebc3b-1982-4274-8377-6f11f5f66450"
      },
      "source": [
        "tf.test.gpu_device_name()"
      ],
      "execution_count": 5,
      "outputs": [
        {
          "output_type": "execute_result",
          "data": {
            "application/vnd.google.colaboratory.intrinsic+json": {
              "type": "string"
            },
            "text/plain": [
              "'/device:GPU:0'"
            ]
          },
          "metadata": {
            "tags": []
          },
          "execution_count": 5
        }
      ]
    },
    {
      "cell_type": "code",
      "metadata": {
        "id": "UpAuEw00iwbb"
      },
      "source": [
        "# import the libraries as shown below\n",
        "\n",
        "from tensorflow.keras.layers import Input, Lambda, Dense, Flatten\n",
        "from tensorflow.keras.models import Model\n",
        "from tensorflow.keras.applications.vgg16 import VGG16\n",
        "from tensorflow.keras.applications.vgg16 import preprocess_input\n",
        "from tensorflow.keras.preprocessing import image\n",
        "from tensorflow.keras.preprocessing.image import ImageDataGenerator,load_img\n",
        "from tensorflow.keras.models import Sequential\n",
        "import numpy as np\n",
        "from glob import glob\n"
      ],
      "execution_count": 6,
      "outputs": []
    },
    {
      "cell_type": "code",
      "metadata": {
        "id": "_7WCB-bUiwbc"
      },
      "source": [
        "# re-size all the images to this\n",
        "IMAGE_SIZE = [224, 224]\n",
        "\n",
        "train_path = 'Datasets/train'\n",
        "valid_path = 'Datasets/test'\n"
      ],
      "execution_count": 7,
      "outputs": []
    },
    {
      "cell_type": "code",
      "metadata": {
        "colab": {
          "base_uri": "https://localhost:8080/"
        },
        "id": "QayKur25iwbc",
        "outputId": "118aa35f-2e38-440f-fbcb-1f8994decd8a"
      },
      "source": [
        "# Import the Vgg 16 library as shown below and add preprocessing layer to the front of VGG\n",
        "# Here we will be using imagenet weights\n",
        "\n",
        "vgg16 = VGG16(input_shape=IMAGE_SIZE + [3], weights='imagenet', include_top=False)\n",
        "\n",
        "\n"
      ],
      "execution_count": 8,
      "outputs": [
        {
          "output_type": "stream",
          "text": [
            "Downloading data from https://storage.googleapis.com/tensorflow/keras-applications/vgg16/vgg16_weights_tf_dim_ordering_tf_kernels_notop.h5\n",
            "58892288/58889256 [==============================] - 1s 0us/step\n"
          ],
          "name": "stdout"
        }
      ]
    },
    {
      "cell_type": "code",
      "metadata": {
        "id": "HOFeZwLUiwbd"
      },
      "source": [
        "# don't train existing weights\n",
        "for layer in vgg16.layers:\n",
        "    layer.trainable = False"
      ],
      "execution_count": 11,
      "outputs": []
    },
    {
      "cell_type": "code",
      "metadata": {
        "id": "QDhgssXmiwbd"
      },
      "source": [
        "  # useful for getting number of output classes\n",
        "folders = glob('/content/drive/MyDrive/Datasets/train/*')"
      ],
      "execution_count": 12,
      "outputs": []
    },
    {
      "cell_type": "code",
      "metadata": {
        "colab": {
          "base_uri": "https://localhost:8080/"
        },
        "id": "8vnMxlGZiwbd",
        "outputId": "8689d161-0b88-4dcd-dc39-63a5e70e69d3"
      },
      "source": [
        "folders"
      ],
      "execution_count": 13,
      "outputs": [
        {
          "output_type": "execute_result",
          "data": {
            "text/plain": [
              "['/content/drive/MyDrive/Datasets/train/cat',\n",
              " '/content/drive/MyDrive/Datasets/train/dog']"
            ]
          },
          "metadata": {
            "tags": []
          },
          "execution_count": 13
        }
      ]
    },
    {
      "cell_type": "code",
      "metadata": {
        "id": "Fa3BLAdAiwbe"
      },
      "source": [
        "# our layers - you can add more if you want\n",
        "x = Flatten()(vgg16.output)"
      ],
      "execution_count": 14,
      "outputs": []
    },
    {
      "cell_type": "code",
      "metadata": {
        "id": "LdqejRbxiwbe"
      },
      "source": [
        "prediction = Dense(len(folders), activation='softmax')(x)\n",
        "\n",
        "# create a model object\n",
        "model = Model(inputs=vgg16.input, outputs=prediction)"
      ],
      "execution_count": 15,
      "outputs": []
    },
    {
      "cell_type": "code",
      "metadata": {
        "colab": {
          "base_uri": "https://localhost:8080/"
        },
        "id": "yoa-EO_eiwbf",
        "outputId": "53b0905f-8792-48f5-ea8a-78c50eb18adb"
      },
      "source": [
        "\n",
        "# view the structure of the model\n",
        "model.summary()\n"
      ],
      "execution_count": 16,
      "outputs": [
        {
          "output_type": "stream",
          "text": [
            "Model: \"model\"\n",
            "_________________________________________________________________\n",
            "Layer (type)                 Output Shape              Param #   \n",
            "=================================================================\n",
            "input_1 (InputLayer)         [(None, 224, 224, 3)]     0         \n",
            "_________________________________________________________________\n",
            "block1_conv1 (Conv2D)        (None, 224, 224, 64)      1792      \n",
            "_________________________________________________________________\n",
            "block1_conv2 (Conv2D)        (None, 224, 224, 64)      36928     \n",
            "_________________________________________________________________\n",
            "block1_pool (MaxPooling2D)   (None, 112, 112, 64)      0         \n",
            "_________________________________________________________________\n",
            "block2_conv1 (Conv2D)        (None, 112, 112, 128)     73856     \n",
            "_________________________________________________________________\n",
            "block2_conv2 (Conv2D)        (None, 112, 112, 128)     147584    \n",
            "_________________________________________________________________\n",
            "block2_pool (MaxPooling2D)   (None, 56, 56, 128)       0         \n",
            "_________________________________________________________________\n",
            "block3_conv1 (Conv2D)        (None, 56, 56, 256)       295168    \n",
            "_________________________________________________________________\n",
            "block3_conv2 (Conv2D)        (None, 56, 56, 256)       590080    \n",
            "_________________________________________________________________\n",
            "block3_conv3 (Conv2D)        (None, 56, 56, 256)       590080    \n",
            "_________________________________________________________________\n",
            "block3_pool (MaxPooling2D)   (None, 28, 28, 256)       0         \n",
            "_________________________________________________________________\n",
            "block4_conv1 (Conv2D)        (None, 28, 28, 512)       1180160   \n",
            "_________________________________________________________________\n",
            "block4_conv2 (Conv2D)        (None, 28, 28, 512)       2359808   \n",
            "_________________________________________________________________\n",
            "block4_conv3 (Conv2D)        (None, 28, 28, 512)       2359808   \n",
            "_________________________________________________________________\n",
            "block4_pool (MaxPooling2D)   (None, 14, 14, 512)       0         \n",
            "_________________________________________________________________\n",
            "block5_conv1 (Conv2D)        (None, 14, 14, 512)       2359808   \n",
            "_________________________________________________________________\n",
            "block5_conv2 (Conv2D)        (None, 14, 14, 512)       2359808   \n",
            "_________________________________________________________________\n",
            "block5_conv3 (Conv2D)        (None, 14, 14, 512)       2359808   \n",
            "_________________________________________________________________\n",
            "block5_pool (MaxPooling2D)   (None, 7, 7, 512)         0         \n",
            "_________________________________________________________________\n",
            "flatten (Flatten)            (None, 25088)             0         \n",
            "_________________________________________________________________\n",
            "dense (Dense)                (None, 2)                 50178     \n",
            "=================================================================\n",
            "Total params: 14,764,866\n",
            "Trainable params: 50,178\n",
            "Non-trainable params: 14,714,688\n",
            "_________________________________________________________________\n"
          ],
          "name": "stdout"
        }
      ]
    },
    {
      "cell_type": "code",
      "metadata": {
        "id": "6AqfEzI5iwbf"
      },
      "source": [
        "# tell the model what cost and optimization method to use\n",
        "model.compile(\n",
        "  loss='categorical_crossentropy',\n",
        "  optimizer='adam',\n",
        "  metrics=['accuracy']\n",
        ")\n"
      ],
      "execution_count": 17,
      "outputs": []
    },
    {
      "cell_type": "code",
      "metadata": {
        "id": "pKOoCbsriwbf"
      },
      "source": [
        "# Use the Image Data Generator to import the images from the dataset\n",
        "from tensorflow.keras.preprocessing.image import ImageDataGenerator\n",
        "\n",
        "train_datagen = ImageDataGenerator(rescale = 1./255,\n",
        "                                   shear_range = 0.2,\n",
        "                                   zoom_range = 0.2,\n",
        "                                   horizontal_flip = True)\n",
        "\n",
        "test_datagen = ImageDataGenerator(rescale = 1./255)"
      ],
      "execution_count": 18,
      "outputs": []
    },
    {
      "cell_type": "code",
      "metadata": {
        "colab": {
          "base_uri": "https://localhost:8080/"
        },
        "id": "wlGW-rX9iwbg",
        "outputId": "bb0f379e-392c-48e7-dc35-b4d04f7a666a"
      },
      "source": [
        "# Make sure you provide the same target size as initialied for the image size\n",
        "training_set = train_datagen.flow_from_directory('/content/drive/MyDrive/Datasets/train',\n",
        "                                                 target_size = (224, 224),\n",
        "                                                 batch_size = 32,\n",
        "                                                 class_mode = 'categorical')"
      ],
      "execution_count": 19,
      "outputs": [
        {
          "output_type": "stream",
          "text": [
            "Found 25000 images belonging to 2 classes.\n"
          ],
          "name": "stdout"
        }
      ]
    },
    {
      "cell_type": "code",
      "metadata": {
        "colab": {
          "base_uri": "https://localhost:8080/"
        },
        "id": "G-k2Zkyhiwbg",
        "outputId": "7f390581-1a53-4d54-fe54-5674aa54c3b0"
      },
      "source": [
        "test_set = test_datagen.flow_from_directory('/content/drive/MyDrive/Datasets/test',\n",
        "                                            target_size = (224, 224),\n",
        "                                            batch_size = 32,\n",
        "                                            class_mode = 'categorical')"
      ],
      "execution_count": 20,
      "outputs": [
        {
          "output_type": "stream",
          "text": [
            "Found 1012 images belonging to 2 classes.\n"
          ],
          "name": "stdout"
        }
      ]
    },
    {
      "cell_type": "code",
      "metadata": {
        "colab": {
          "base_uri": "https://localhost:8080/"
        },
        "id": "OhCkIVvbiwbh",
        "outputId": "48dd331e-e268-42c8-eec5-9a122e79dc36"
      },
      "source": [
        "# fit the model\n",
        "# Run the cell. It will take some time to execute\n",
        "r = model.fit_generator(\n",
        "  training_set,\n",
        "  validation_data=test_set,\n",
        "  epochs=50,\n",
        "  steps_per_epoch=len(training_set),\n",
        "  validation_steps=len(test_set)\n",
        ")"
      ],
      "execution_count": 21,
      "outputs": [
        {
          "output_type": "stream",
          "text": [
            "/usr/local/lib/python3.6/dist-packages/tensorflow/python/keras/engine/training.py:1844: UserWarning: `Model.fit_generator` is deprecated and will be removed in a future version. Please use `Model.fit`, which supports generators.\n",
            "  warnings.warn('`Model.fit_generator` is deprecated and '\n"
          ],
          "name": "stderr"
        },
        {
          "output_type": "stream",
          "text": [
            "Epoch 1/50\n",
            "782/782 [==============================] - 6957s 9s/step - loss: 0.3577 - accuracy: 0.8546 - val_loss: 0.2032 - val_accuracy: 0.9249\n",
            "Epoch 2/50\n",
            "782/782 [==============================] - 395s 504ms/step - loss: 0.2185 - accuracy: 0.9158 - val_loss: 0.2168 - val_accuracy: 0.9279\n",
            "Epoch 3/50\n",
            "782/782 [==============================] - 393s 503ms/step - loss: 0.1991 - accuracy: 0.9239 - val_loss: 0.2531 - val_accuracy: 0.9358\n",
            "Epoch 4/50\n",
            "782/782 [==============================] - 390s 499ms/step - loss: 0.1858 - accuracy: 0.9324 - val_loss: 0.2597 - val_accuracy: 0.9219\n",
            "Epoch 5/50\n",
            "782/782 [==============================] - 389s 497ms/step - loss: 0.1947 - accuracy: 0.9313 - val_loss: 0.3341 - val_accuracy: 0.9140\n",
            "Epoch 6/50\n",
            "782/782 [==============================] - 392s 501ms/step - loss: 0.1819 - accuracy: 0.9354 - val_loss: 0.2375 - val_accuracy: 0.9358\n",
            "Epoch 7/50\n",
            "782/782 [==============================] - 390s 498ms/step - loss: 0.1857 - accuracy: 0.9367 - val_loss: 0.3251 - val_accuracy: 0.9239\n",
            "Epoch 8/50\n",
            "782/782 [==============================] - 389s 498ms/step - loss: 0.1991 - accuracy: 0.9345 - val_loss: 0.2966 - val_accuracy: 0.9298\n",
            "Epoch 9/50\n",
            "782/782 [==============================] - 388s 496ms/step - loss: 0.1753 - accuracy: 0.9405 - val_loss: 0.2917 - val_accuracy: 0.9229\n",
            "Epoch 10/50\n",
            "782/782 [==============================] - 390s 499ms/step - loss: 0.1709 - accuracy: 0.9448 - val_loss: 0.4116 - val_accuracy: 0.9170\n",
            "Epoch 11/50\n",
            "782/782 [==============================] - 387s 495ms/step - loss: 0.1734 - accuracy: 0.9458 - val_loss: 0.3240 - val_accuracy: 0.9358\n",
            "Epoch 12/50\n",
            "782/782 [==============================] - 386s 494ms/step - loss: 0.1754 - accuracy: 0.9441 - val_loss: 0.3516 - val_accuracy: 0.9239\n",
            "Epoch 13/50\n",
            "782/782 [==============================] - 388s 496ms/step - loss: 0.1665 - accuracy: 0.9446 - val_loss: 0.3647 - val_accuracy: 0.9239\n",
            "Epoch 14/50\n",
            "782/782 [==============================] - 387s 495ms/step - loss: 0.1653 - accuracy: 0.9479 - val_loss: 0.3367 - val_accuracy: 0.9368\n",
            "Epoch 15/50\n",
            "782/782 [==============================] - 387s 495ms/step - loss: 0.1837 - accuracy: 0.9440 - val_loss: 0.3430 - val_accuracy: 0.9358\n",
            "Epoch 16/50\n",
            "782/782 [==============================] - 387s 495ms/step - loss: 0.1461 - accuracy: 0.9522 - val_loss: 0.3490 - val_accuracy: 0.9348\n",
            "Epoch 17/50\n",
            "782/782 [==============================] - 388s 496ms/step - loss: 0.1497 - accuracy: 0.9507 - val_loss: 0.3411 - val_accuracy: 0.9368\n",
            "Epoch 18/50\n",
            "782/782 [==============================] - 386s 494ms/step - loss: 0.1647 - accuracy: 0.9483 - val_loss: 0.3684 - val_accuracy: 0.9328\n",
            "Epoch 19/50\n",
            "782/782 [==============================] - 385s 493ms/step - loss: 0.1548 - accuracy: 0.9510 - val_loss: 0.3560 - val_accuracy: 0.9318\n",
            "Epoch 20/50\n",
            "782/782 [==============================] - 386s 493ms/step - loss: 0.1580 - accuracy: 0.9514 - val_loss: 0.3492 - val_accuracy: 0.9377\n",
            "Epoch 21/50\n",
            "782/782 [==============================] - 386s 494ms/step - loss: 0.1366 - accuracy: 0.9562 - val_loss: 0.3834 - val_accuracy: 0.9368\n",
            "Epoch 22/50\n",
            "782/782 [==============================] - 388s 496ms/step - loss: 0.1438 - accuracy: 0.9539 - val_loss: 0.4989 - val_accuracy: 0.9111\n",
            "Epoch 23/50\n",
            "782/782 [==============================] - 386s 493ms/step - loss: 0.1434 - accuracy: 0.9558 - val_loss: 0.4141 - val_accuracy: 0.9308\n",
            "Epoch 24/50\n",
            "782/782 [==============================] - 386s 494ms/step - loss: 0.1478 - accuracy: 0.9536 - val_loss: 0.4244 - val_accuracy: 0.9289\n",
            "Epoch 25/50\n",
            "782/782 [==============================] - 386s 493ms/step - loss: 0.1381 - accuracy: 0.9579 - val_loss: 0.4939 - val_accuracy: 0.9091\n",
            "Epoch 26/50\n",
            "782/782 [==============================] - 385s 493ms/step - loss: 0.1435 - accuracy: 0.9549 - val_loss: 0.4368 - val_accuracy: 0.9279\n",
            "Epoch 27/50\n",
            "782/782 [==============================] - 386s 493ms/step - loss: 0.1419 - accuracy: 0.9580 - val_loss: 0.4268 - val_accuracy: 0.9338\n",
            "Epoch 28/50\n",
            "782/782 [==============================] - 385s 492ms/step - loss: 0.1381 - accuracy: 0.9572 - val_loss: 0.4014 - val_accuracy: 0.9397\n",
            "Epoch 29/50\n",
            "782/782 [==============================] - 386s 493ms/step - loss: 0.1415 - accuracy: 0.9591 - val_loss: 0.4252 - val_accuracy: 0.9308\n",
            "Epoch 30/50\n",
            "782/782 [==============================] - 386s 494ms/step - loss: 0.1261 - accuracy: 0.9604 - val_loss: 0.4126 - val_accuracy: 0.9318\n",
            "Epoch 31/50\n",
            "782/782 [==============================] - 386s 494ms/step - loss: 0.1345 - accuracy: 0.9576 - val_loss: 0.4166 - val_accuracy: 0.9437\n",
            "Epoch 32/50\n",
            "782/782 [==============================] - 385s 492ms/step - loss: 0.1364 - accuracy: 0.9570 - val_loss: 0.4398 - val_accuracy: 0.9417\n",
            "Epoch 33/50\n",
            "782/782 [==============================] - 385s 492ms/step - loss: 0.1497 - accuracy: 0.9564 - val_loss: 0.4986 - val_accuracy: 0.9180\n",
            "Epoch 34/50\n",
            "782/782 [==============================] - 385s 492ms/step - loss: 0.1340 - accuracy: 0.9597 - val_loss: 0.4496 - val_accuracy: 0.9368\n",
            "Epoch 35/50\n",
            "782/782 [==============================] - 385s 492ms/step - loss: 0.1363 - accuracy: 0.9579 - val_loss: 0.4571 - val_accuracy: 0.9318\n",
            "Epoch 36/50\n",
            "782/782 [==============================] - 386s 493ms/step - loss: 0.1487 - accuracy: 0.9571 - val_loss: 0.4534 - val_accuracy: 0.9298\n",
            "Epoch 37/50\n",
            "782/782 [==============================] - 386s 494ms/step - loss: 0.1328 - accuracy: 0.9604 - val_loss: 0.5735 - val_accuracy: 0.9140\n",
            "Epoch 38/50\n",
            "782/782 [==============================] - 386s 494ms/step - loss: 0.1807 - accuracy: 0.9506 - val_loss: 0.4652 - val_accuracy: 0.9318\n",
            "Epoch 39/50\n",
            "782/782 [==============================] - 386s 493ms/step - loss: 0.1615 - accuracy: 0.9523 - val_loss: 0.4589 - val_accuracy: 0.9358\n",
            "Epoch 40/50\n",
            "782/782 [==============================] - 387s 495ms/step - loss: 0.1405 - accuracy: 0.9613 - val_loss: 0.4604 - val_accuracy: 0.9358\n",
            "Epoch 41/50\n",
            "782/782 [==============================] - 390s 499ms/step - loss: 0.1349 - accuracy: 0.9597 - val_loss: 0.5649 - val_accuracy: 0.9229\n",
            "Epoch 42/50\n",
            "782/782 [==============================] - 386s 493ms/step - loss: 0.1297 - accuracy: 0.9618 - val_loss: 0.4855 - val_accuracy: 0.9298\n",
            "Epoch 43/50\n",
            "782/782 [==============================] - 386s 494ms/step - loss: 0.1353 - accuracy: 0.9597 - val_loss: 0.5053 - val_accuracy: 0.9279\n",
            "Epoch 44/50\n",
            "782/782 [==============================] - 385s 492ms/step - loss: 0.1484 - accuracy: 0.9584 - val_loss: 0.4786 - val_accuracy: 0.9298\n",
            "Epoch 45/50\n",
            "782/782 [==============================] - 384s 491ms/step - loss: 0.1312 - accuracy: 0.9603 - val_loss: 0.4762 - val_accuracy: 0.9358\n",
            "Epoch 46/50\n",
            "782/782 [==============================] - 384s 491ms/step - loss: 0.1348 - accuracy: 0.9626 - val_loss: 0.5132 - val_accuracy: 0.9269\n",
            "Epoch 47/50\n",
            "782/782 [==============================] - 386s 494ms/step - loss: 0.1287 - accuracy: 0.9609 - val_loss: 0.5934 - val_accuracy: 0.9239\n",
            "Epoch 48/50\n",
            "782/782 [==============================] - 383s 490ms/step - loss: 0.1287 - accuracy: 0.9626 - val_loss: 0.4626 - val_accuracy: 0.9368\n",
            "Epoch 49/50\n",
            "782/782 [==============================] - 383s 489ms/step - loss: 0.1287 - accuracy: 0.9643 - val_loss: 0.5443 - val_accuracy: 0.9298\n",
            "Epoch 50/50\n",
            "782/782 [==============================] - 384s 491ms/step - loss: 0.1254 - accuracy: 0.9634 - val_loss: 0.4803 - val_accuracy: 0.9358\n"
          ],
          "name": "stdout"
        }
      ]
    },
    {
      "cell_type": "code",
      "metadata": {
        "id": "ereho3PMiwbh"
      },
      "source": [
        ""
      ],
      "execution_count": 21,
      "outputs": []
    },
    {
      "cell_type": "code",
      "metadata": {
        "colab": {
          "base_uri": "https://localhost:8080/",
          "height": 530
        },
        "id": "gBvBWTBYiwbh",
        "outputId": "86c5ee29-1b83-4345-f80a-c71541346266"
      },
      "source": [
        "# plot the loss\n",
        "import matplotlib.pyplot as plt\n",
        "plt.plot(r.history['loss'], label='train loss')\n",
        "plt.plot(r.history['val_loss'], label='val loss')\n",
        "plt.legend()\n",
        "plt.show()\n",
        "plt.savefig('LossVal_loss')\n",
        "\n",
        "# plot the accuracy\n",
        "plt.plot(r.history['accuracy'], label='train acc')\n",
        "plt.plot(r.history['val_accuracy'], label='val acc')\n",
        "plt.legend()\n",
        "plt.show()\n",
        "plt.savefig('AccVal_acc')"
      ],
      "execution_count": 22,
      "outputs": [
        {
          "output_type": "display_data",
          "data": {
            "image/png": "[encoded data removed]",
            "text/plain": [
              "<Figure size 432x288 with 1 Axes>"
            ]
          },
          "metadata": {
            "tags": [],
            "needs_background": "light"
          }
        },
        {
          "output_type": "display_data",
          "data": {
            "image/png": "[encoded data removed]",
            "text/plain": [
              "<Figure size 432x288 with 1 Axes>"
            ]
          },
          "metadata": {
            "tags": [],
            "needs_background": "light"
          }
        },
        {
          "output_type": "display_data",
          "data": {
            "text/plain": [
              "<Figure size 432x288 with 0 Axes>"
            ]
          },
          "metadata": {
            "tags": []
          }
        }
      ]
    },
    {
      "cell_type": "code",
      "metadata": {
        "id": "lFVh9UOtiwbi"
      },
      "source": [
        "# save it as a h5 file\n",
        "\n",
        "\n",
        "from tensorflow.keras.models import load_model\n",
        "\n",
        "model.save('model_vgg16.h5')"
      ],
      "execution_count": 23,
      "outputs": []
    },
    {
      "cell_type": "code",
      "metadata": {
        "id": "6p9TFDzOiwbi"
      },
      "source": [
        "model.save('/content/drive/MyDrive/Datasets/model_vgg16.h5')"
      ],
      "execution_count": 24,
      "outputs": []
    },
    {
      "cell_type": "code",
      "metadata": {
        "id": "stjCmDUmiwbi"
      },
      "source": [
        "\n",
        "y_pred = model.predict(test_set)\n"
      ],
      "execution_count": 25,
      "outputs": []
    },
    {
      "cell_type": "code",
      "metadata": {
        "colab": {
          "base_uri": "https://localhost:8080/"
        },
        "id": "-itVE9z5iwbj",
        "outputId": "1aea09ea-053a-48a9-aa12-f129e202035b"
      },
      "source": [
        "y_pred"
      ],
      "execution_count": 26,
      "outputs": [
        {
          "output_type": "execute_result",
          "data": {
            "text/plain": [
              "array([[1.0000000e+00, 1.1690154e-12],\n",
              "       [3.5236767e-25, 1.0000000e+00],\n",
              "       [1.5937049e-36, 1.0000000e+00],\n",
              "       ...,\n",
              "       [1.6170435e-13, 1.0000000e+00],\n",
              "       [1.0000000e+00, 2.0433049e-16],\n",
              "       [9.9999881e-01, 1.1938378e-06]], dtype=float32)"
            ]
          },
          "metadata": {
            "tags": []
          },
          "execution_count": 26
        }
      ]
    },
    {
      "cell_type": "code",
      "metadata": {
        "id": "-Tvl-Fx_iwbj"
      },
      "source": [
        "import numpy as np\n",
        "y_pred = np.argmax(y_pred, axis=1)"
      ],
      "execution_count": 27,
      "outputs": []
    },
    {
      "cell_type": "code",
      "metadata": {
        "colab": {
          "base_uri": "https://localhost:8080/"
        },
        "id": "R5R9YizNiwbj",
        "outputId": "2447024e-dd3f-4d3e-8d22-94df43d74f4e"
      },
      "source": [
        "y_pred"
      ],
      "execution_count": 28,
      "outputs": [
        {
          "output_type": "execute_result",
          "data": {
            "text/plain": [
              "array([0, 1, 1, ..., 1, 0, 0])"
            ]
          },
          "metadata": {
            "tags": []
          },
          "execution_count": 28
        }
      ]
    },
    {
      "cell_type": "code",
      "metadata": {
        "id": "44IzfymSiwbk"
      },
      "source": [
        ""
      ],
      "execution_count": 28,
      "outputs": []
    },
    {
      "cell_type": "code",
      "metadata": {
        "id": "XpPx8ajZiwbk"
      },
      "source": [
        "from tensorflow.keras.models import load_model\n",
        "from tensorflow.keras.models import load_model\n",
        "from tensorflow.keras.preprocessing import image"
      ],
      "execution_count": 9,
      "outputs": []
    },
    {
      "cell_type": "code",
      "metadata": {
        "colab": {
          "base_uri": "https://localhost:8080/",
          "height": 323
        },
        "id": "rZI_-_Cwiwbk",
        "outputId": "00968bac-9218-44a8-8235-b71d475fc08e"
      },
      "source": [
        "#model=load_model('model_resnet50.h5')\r\n",
        "model=load_model('model_vgg16.h5')"
      ],
      "execution_count": 10,
      "outputs": [
        {
          "output_type": "error",
          "ename": "OSError",
          "evalue": "ignored",
          "traceback": [
            "\u001b[0;31m---------------------------------------------------------------------------\u001b[0m",
            "\u001b[0;31mOSError\u001b[0m                                   Traceback (most recent call last)",
            "\u001b[0;32m<ipython-input-10-57adaf11d332>\u001b[0m in \u001b[0;36m<module>\u001b[0;34m()\u001b[0m\n\u001b[1;32m      1\u001b[0m \u001b[0;31m#model=load_model('model_resnet50.h5')\u001b[0m\u001b[0;34m\u001b[0m\u001b[0;34m\u001b[0m\u001b[0;34m\u001b[0m\u001b[0m\n\u001b[0;32m----> 2\u001b[0;31m \u001b[0mmodel\u001b[0m\u001b[0;34m=\u001b[0m\u001b[0mload_model\u001b[0m\u001b[0;34m(\u001b[0m\u001b[0;34m'model_vgg16.h5'\u001b[0m\u001b[0;34m)\u001b[0m\u001b[0;34m\u001b[0m\u001b[0;34m\u001b[0m\u001b[0m\n\u001b[0m",
            "\u001b[0;32m/usr/local/lib/python3.6/dist-packages/tensorflow/python/keras/saving/save.py\u001b[0m in \u001b[0;36mload_model\u001b[0;34m(filepath, custom_objects, compile, options)\u001b[0m\n\u001b[1;32m    209\u001b[0m       \u001b[0mfilepath\u001b[0m \u001b[0;34m=\u001b[0m \u001b[0mpath_to_string\u001b[0m\u001b[0;34m(\u001b[0m\u001b[0mfilepath\u001b[0m\u001b[0;34m)\u001b[0m\u001b[0;34m\u001b[0m\u001b[0;34m\u001b[0m\u001b[0m\n\u001b[1;32m    210\u001b[0m       \u001b[0;32mif\u001b[0m \u001b[0misinstance\u001b[0m\u001b[0;34m(\u001b[0m\u001b[0mfilepath\u001b[0m\u001b[0;34m,\u001b[0m \u001b[0msix\u001b[0m\u001b[0;34m.\u001b[0m\u001b[0mstring_types\u001b[0m\u001b[0;34m)\u001b[0m\u001b[0;34m:\u001b[0m\u001b[0;34m\u001b[0m\u001b[0;34m\u001b[0m\u001b[0m\n\u001b[0;32m--> 211\u001b[0;31m         \u001b[0mloader_impl\u001b[0m\u001b[0;34m.\u001b[0m\u001b[0mparse_saved_model\u001b[0m\u001b[0;34m(\u001b[0m\u001b[0mfilepath\u001b[0m\u001b[0;34m)\u001b[0m\u001b[0;34m\u001b[0m\u001b[0;34m\u001b[0m\u001b[0m\n\u001b[0m\u001b[1;32m    212\u001b[0m         \u001b[0;32mreturn\u001b[0m \u001b[0msaved_model_load\u001b[0m\u001b[0;34m.\u001b[0m\u001b[0mload\u001b[0m\u001b[0;34m(\u001b[0m\u001b[0mfilepath\u001b[0m\u001b[0;34m,\u001b[0m \u001b[0mcompile\u001b[0m\u001b[0;34m,\u001b[0m \u001b[0moptions\u001b[0m\u001b[0;34m)\u001b[0m\u001b[0;34m\u001b[0m\u001b[0;34m\u001b[0m\u001b[0m\n\u001b[1;32m    213\u001b[0m \u001b[0;34m\u001b[0m\u001b[0m\n",
            "\u001b[0;32m/usr/local/lib/python3.6/dist-packages/tensorflow/python/saved_model/loader_impl.py\u001b[0m in \u001b[0;36mparse_saved_model\u001b[0;34m(export_dir)\u001b[0m\n\u001b[1;32m    112\u001b[0m                   (export_dir,\n\u001b[1;32m    113\u001b[0m                    \u001b[0mconstants\u001b[0m\u001b[0;34m.\u001b[0m\u001b[0mSAVED_MODEL_FILENAME_PBTXT\u001b[0m\u001b[0;34m,\u001b[0m\u001b[0;34m\u001b[0m\u001b[0;34m\u001b[0m\u001b[0m\n\u001b[0;32m--> 114\u001b[0;31m                    constants.SAVED_MODEL_FILENAME_PB))\n\u001b[0m\u001b[1;32m    115\u001b[0m \u001b[0;34m\u001b[0m\u001b[0m\n\u001b[1;32m    116\u001b[0m \u001b[0;34m\u001b[0m\u001b[0m\n",
            "\u001b[0;31mOSError\u001b[0m: SavedModel file does not exist at: model_vgg16.h5/{saved_model.pbtxt|saved_model.pb}"
          ]
        }
      ]
    },
    {
      "cell_type": "code",
      "metadata": {
        "id": "fuffApG0AETz"
      },
      "source": [
        "\r\n",
        "model=load_model('/content/drive/MyDrive/Datasets/model_vgg16.h5')"
      ],
      "execution_count": 11,
      "outputs": []
    },
    {
      "cell_type": "code",
      "metadata": {
        "colab": {
          "base_uri": "https://localhost:8080/",
          "height": 163
        },
        "id": "_Zs31f45iwbl",
        "outputId": "3a89d514-6411-456e-f847-4c17a7acc600"
      },
      "source": [
        ""
      ],
      "execution_count": 32,
      "outputs": [
        {
          "output_type": "error",
          "ename": "NameError",
          "evalue": "ignored",
          "traceback": [
            "\u001b[0;31m---------------------------------------------------------------------------\u001b[0m",
            "\u001b[0;31mNameError\u001b[0m                                 Traceback (most recent call last)",
            "\u001b[0;32m<ipython-input-32-7b8301fa3f5c>\u001b[0m in \u001b[0;36m<module>\u001b[0;34m()\u001b[0m\n\u001b[0;32m----> 1\u001b[0;31m \u001b[0mimg_data\u001b[0m\u001b[0;34m\u001b[0m\u001b[0;34m\u001b[0m\u001b[0m\n\u001b[0m",
            "\u001b[0;31mNameError\u001b[0m: name 'img_data' is not defined"
          ]
        }
      ]
    },
    {
      "cell_type": "code",
      "metadata": {
        "id": "wDwBno1ciwbl"
      },
      "source": [
        "img=image.load_img('/content/drive/MyDrive/Datasets/test/cat/125.jpg',target_size=(224,224))\n",
        "\n"
      ],
      "execution_count": 52,
      "outputs": []
    },
    {
      "cell_type": "code",
      "metadata": {
        "colab": {
          "base_uri": "https://localhost:8080/"
        },
        "id": "-86NW7PYiwbl",
        "outputId": "f9b3b83b-e13d-4a85-e0fd-8cd4e22e1f2f"
      },
      "source": [
        "x=image.img_to_array(img)\n",
        "x"
      ],
      "execution_count": 53,
      "outputs": [
        {
          "output_type": "execute_result",
          "data": {
            "text/plain": [
              "array([[[199., 199., 201.],\n",
              "        [219., 219., 221.],\n",
              "        [211., 211., 213.],\n",
              "        ...,\n",
              "        [109.,  92.,  66.],\n",
              "        [134., 118.,  93.],\n",
              "        [ 55.,  39.,  14.]],\n",
              "\n",
              "       [[211., 211., 213.],\n",
              "        [214., 214., 216.],\n",
              "        [210., 210., 212.],\n",
              "        ...,\n",
              "        [ 98.,  81.,  55.],\n",
              "        [ 83.,  67.,  42.],\n",
              "        [103.,  87.,  62.]],\n",
              "\n",
              "       [[201., 201., 203.],\n",
              "        [209., 209., 211.],\n",
              "        [208., 208., 210.],\n",
              "        ...,\n",
              "        [102.,  85.,  59.],\n",
              "        [109.,  93.,  68.],\n",
              "        [ 99.,  83.,  58.]],\n",
              "\n",
              "       ...,\n",
              "\n",
              "       [[249., 246., 241.],\n",
              "        [243., 242., 237.],\n",
              "        [232., 233., 228.],\n",
              "        ...,\n",
              "        [242., 243., 235.],\n",
              "        [234., 235., 230.],\n",
              "        [238., 238., 240.]],\n",
              "\n",
              "       [[245., 242., 237.],\n",
              "        [240., 239., 234.],\n",
              "        [230., 231., 226.],\n",
              "        ...,\n",
              "        [243., 245., 232.],\n",
              "        [233., 235., 224.],\n",
              "        [233., 234., 228.]],\n",
              "\n",
              "       [[241., 238., 233.],\n",
              "        [239., 238., 233.],\n",
              "        [232., 233., 228.],\n",
              "        ...,\n",
              "        [243., 245., 231.],\n",
              "        [233., 235., 221.],\n",
              "        [231., 233., 222.]]], dtype=float32)"
            ]
          },
          "metadata": {
            "tags": []
          },
          "execution_count": 53
        }
      ]
    },
    {
      "cell_type": "code",
      "metadata": {
        "colab": {
          "base_uri": "https://localhost:8080/"
        },
        "id": "kih7lD7xiwbm",
        "outputId": "e121fa52-4610-438a-ca83-d061c1cbedbc"
      },
      "source": [
        "x.shape"
      ],
      "execution_count": 54,
      "outputs": [
        {
          "output_type": "execute_result",
          "data": {
            "text/plain": [
              "(224, 224, 3)"
            ]
          },
          "metadata": {
            "tags": []
          },
          "execution_count": 54
        }
      ]
    },
    {
      "cell_type": "code",
      "metadata": {
        "id": "zNdA_Q_ciwbm"
      },
      "source": [
        "x=x/255"
      ],
      "execution_count": 55,
      "outputs": []
    },
    {
      "cell_type": "code",
      "metadata": {
        "colab": {
          "base_uri": "https://localhost:8080/"
        },
        "id": "-R-vEJyQiwbm",
        "outputId": "18ea9f0b-c1d0-4507-a0a9-ad5d6cee9c3d"
      },
      "source": [
        "x=np.expand_dims(x,axis=0)\n",
        "img_data=preprocess_input(x)\n",
        "img_data.shape"
      ],
      "execution_count": 56,
      "outputs": [
        {
          "output_type": "execute_result",
          "data": {
            "text/plain": [
              "(1, 224, 224, 3)"
            ]
          },
          "metadata": {
            "tags": []
          },
          "execution_count": 56
        }
      ]
    },
    {
      "cell_type": "code",
      "metadata": {
        "colab": {
          "base_uri": "https://localhost:8080/"
        },
        "id": "wTYOLRXtiwbn",
        "outputId": "bc56eb50-e526-4cc4-bc9f-917697042dd1"
      },
      "source": [
        "model.predict(img_data)"
      ],
      "execution_count": 57,
      "outputs": [
        {
          "output_type": "execute_result",
          "data": {
            "text/plain": [
              "array([[9.999902e-01, 9.821530e-06]], dtype=float32)"
            ]
          },
          "metadata": {
            "tags": []
          },
          "execution_count": 57
        }
      ]
    },
    {
      "cell_type": "code",
      "metadata": {
        "id": "P6mI49Bciwbn"
      },
      "source": [
        "a=np.argmax(model.predict(img_data), axis=1)"
      ],
      "execution_count": 58,
      "outputs": []
    },
    {
      "cell_type": "code",
      "metadata": {
        "colab": {
          "base_uri": "https://localhost:8080/"
        },
        "id": "bm_M8_5Wet_J",
        "outputId": "ab817b74-22be-4deb-e6df-d3c67e1820b5"
      },
      "source": [
        "print(a)"
      ],
      "execution_count": 59,
      "outputs": [
        {
          "output_type": "stream",
          "text": [
            "[0]\n"
          ],
          "name": "stdout"
        }
      ]
    },
    {
      "cell_type": "code",
      "metadata": {
        "colab": {
          "base_uri": "https://localhost:8080/"
        },
        "id": "5QLf4dcxiwbn",
        "outputId": "4fc9db6e-6f96-4911-d635-b085c44b9fbe"
      },
      "source": [
        "a==1"
      ],
      "execution_count": 60,
      "outputs": [
        {
          "output_type": "execute_result",
          "data": {
            "text/plain": [
              "array([False])"
            ]
          },
          "metadata": {
            "tags": []
          },
          "execution_count": 60
        }
      ]
    },
    {
      "cell_type": "code",
      "metadata": {
        "colab": {
          "base_uri": "https://localhost:8080/"
        },
        "id": "jrvlC0tBfM2R",
        "outputId": "9b4c76a4-3f60-4d66-d1c1-fd4329864b2d"
      },
      "source": [
        "a==0"
      ],
      "execution_count": 61,
      "outputs": [
        {
          "output_type": "execute_result",
          "data": {
            "text/plain": [
              "array([ True])"
            ]
          },
          "metadata": {
            "tags": []
          },
          "execution_count": 61
        }
      ]
    }
  ]
}